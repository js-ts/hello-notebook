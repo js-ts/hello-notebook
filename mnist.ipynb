{
  "nbformat": 4,
  "nbformat_minor": 0,
  "metadata": {
    "colab": {
      "provenance": []
    },
    "kernelspec": {
      "name": "python3",
      "display_name": "Python 3"
    },
    "language_info": {
      "name": "python"
    },
    "accelerator": "GPU",
    "gpuClass": "standard"
  },
  "cells": [
    {
      "cell_type": "code",
      "source": [
        "# import zipfile\n",
        "\n",
        "# zip_file_path = '/content/train.csv.zip'  # Replace with your file path\n",
        "# output_folder_path = '/content/'  # The folder where the extracted files will be saved\n",
        "\n",
        "# with zipfile.ZipFile(zip_file_path, 'r') as zip_ref:\n",
        "#     zip_ref.extractall(output_folder_path)\n"
      ],
      "metadata": {
        "id": "JWeVxq5P2Euy"
      },
      "execution_count": null,
      "outputs": []
    },
    {
      "cell_type": "code",
      "execution_count": null,
      "metadata": {
        "id": "1Bm4LtqunWCl"
      },
      "outputs": [],
      "source": [
        "import pandas as pd\n",
        "import numpy as np\n",
        "\n",
        "import matplotlib.pyplot as plt\n",
        "import seaborn as sns\n",
        "\n",
        "from sklearn.model_selection import train_test_split\n",
        "from sklearn.metrics import confusion_matrix\n",
        "import tensorflow as tf\n",
        "\n",
        "import keras\n",
        "from keras.models import Sequential\n",
        "from keras.layers import Conv2D, Lambda, MaxPooling2D # convolution layers\n",
        "from keras.layers import Dense, Dropout, Flatten # core layers\n",
        "from keras.layers import BatchNormalization\n",
        "\n",
        "from keras.preprocessing.image import ImageDataGenerator\n",
        "\n",
        "from keras.utils.np_utils import to_categorical"
      ]
    },
    {
      "cell_type": "code",
      "source": [
        "# Set the per_process_gpu_memory_fraction\n",
        "gpus = tf.config.list_physical_devices('GPU')\n",
        "if gpus:\n",
        "  try:\n",
        "    for gpu in gpus:\n",
        "      tf.config.experimental.set_memory_growth(gpu, True)\n",
        "    logical_gpus = tf.config.experimental.list_logical_devices('GPU')\n",
        "    print(len(gpus), \"Physical GPUs,\", len(logical_gpus), \"Logical GPUs\")\n",
        "  except RuntimeError as e:\n",
        "    print(e)"
      ],
      "metadata": {
        "id": "3ZNnnq5v4oJL"
      },
      "execution_count": null,
      "outputs": []
    },
    {
      "cell_type": "code",
      "source": [
        "train = pd.read_csv('./datasets/VedantPadwal/mnist/train.csv')\n",
        "test = pd.read_csv('./datasets/VedantPadwal/mnist/test.csv')"
      ],
      "metadata": {
        "id": "QBXMjh8hnbnk"
      },
      "execution_count": null,
      "outputs": []
    },
    {
      "cell_type": "code",
      "source": [
        "print(f\"Training data size is {train.shape}\\nTesting data size is {test.shape}\")"
      ],
      "metadata": {
        "id": "5PH8bgzjve6V"
      },
      "execution_count": null,
      "outputs": []
    },
    {
      "cell_type": "code",
      "source": [
        "X = train.drop(['label'], 1).values\n",
        "y = train['label'].values"
      ],
      "metadata": {
        "id": "CXAGhmfPwYO7"
      },
      "execution_count": null,
      "outputs": []
    },
    {
      "cell_type": "markdown",
      "source": [
        "We perform a grayscale normalization to reduce the effect of illumination's differences. \n",
        "\n",
        "Moreover the CNN converg faster on [0..1] data than on [0..255]."
      ],
      "metadata": {
        "id": "JXfnB2NBxB1r"
      }
    },
    {
      "cell_type": "code",
      "source": [
        "X = X / 255.0"
      ],
      "metadata": {
        "id": "PGVuMOQQwr6B"
      },
      "execution_count": null,
      "outputs": []
    },
    {
      "cell_type": "code",
      "source": [
        "# Reshape image in 3 dimensions (height = 28px, width = 28px , canal = 1)\n",
        "# canal = 1 => For gray scale\n",
        "X = X.reshape(-1,28,28,1)"
      ],
      "metadata": {
        "id": "blmeT0pUxHnc"
      },
      "execution_count": null,
      "outputs": []
    },
    {
      "cell_type": "code",
      "source": [
        "# Encode labels to one hot vectors (ex : 2 -> [0,0,1,0,0,0,0,0,0,0])\n",
        "y = to_categorical(y)\n",
        "\n",
        "print(f\"Label size {y.shape}\")"
      ],
      "metadata": {
        "id": "vUN_rrZfxYcE"
      },
      "execution_count": null,
      "outputs": []
    },
    {
      "cell_type": "code",
      "source": [
        "# Split the train and the validation set for the fitting\n",
        "X_train, X_test, y_train, y_test = train_test_split(X, y, test_size=0.1, random_state=0)"
      ],
      "metadata": {
        "id": "AOPAIwMhxbX4"
      },
      "execution_count": null,
      "outputs": []
    },
    {
      "cell_type": "code",
      "source": [
        "X_train.shape, X_test.shape, y_train.shape, y_test.shape"
      ],
      "metadata": {
        "id": "KrNqkp6RxdEK"
      },
      "execution_count": null,
      "outputs": []
    },
    {
      "cell_type": "code",
      "source": [
        "X_train__ = X_train.reshape(X_train.shape[0], 28, 28)\n",
        "\n",
        "fig, axis = plt.subplots(1, 4, figsize=(20, 10))\n",
        "for i, ax in enumerate(axis.flat):\n",
        "    ax.imshow(X_train__[i], cmap='binary')\n",
        "    digit = y_train[i].argmax()\n",
        "    ax.set(title = f\"Real Number is {digit}\");"
      ],
      "metadata": {
        "id": "rP83Hff2xf_2"
      },
      "execution_count": null,
      "outputs": []
    },
    {
      "cell_type": "code",
      "source": [
        "mean = np.mean(X_train)\n",
        "std = np.std(X_train)\n",
        "\n",
        "def standardize(x):\n",
        "    return (x-mean)/std"
      ],
      "metadata": {
        "id": "rMaOV1Yixh8H"
      },
      "execution_count": null,
      "outputs": []
    },
    {
      "cell_type": "markdown",
      "source": [
        "# CNN"
      ],
      "metadata": {
        "id": "z17BRnhMyjB1"
      }
    },
    {
      "cell_type": "markdown",
      "source": [
        "**Model Definition**"
      ],
      "metadata": {
        "_uuid": "57904be2d2935cece025811c128ca6738cf86800",
        "id": "SUUeVMlnyN1X"
      }
    },
    {
      "cell_type": "code",
      "source": [
        "model=Sequential()\n",
        "\n",
        "#model.add(Lambda(standardize,input_shape=(28,28,1)))    \n",
        "model.add(Conv2D(filters=64, kernel_size = (3,3), activation=\"relu\", input_shape=(28,28,1)))\n",
        "model.add(Conv2D(filters=64, kernel_size = (3,3), activation=\"relu\"))\n",
        "model.add(MaxPooling2D(pool_size=(2,2)))\n",
        "model.add(BatchNormalization())\n",
        "\n",
        "model.add(Conv2D(filters=128, kernel_size = (3,3), activation=\"relu\"))\n",
        "model.add(Conv2D(filters=128, kernel_size = (3,3), activation=\"relu\"))\n",
        "model.add(MaxPooling2D(pool_size=(2,2)))\n",
        "model.add(BatchNormalization())    \n",
        "\n",
        "model.add(Conv2D(filters=256, kernel_size = (3,3), activation=\"relu\"))\n",
        "model.add(MaxPooling2D(pool_size=(2,2)))\n",
        "model.add(BatchNormalization())\n",
        "    \n",
        "model.add(Flatten())\n",
        "model.add(Dense(512,activation=\"relu\"))\n",
        "    \n",
        "model.add(Dense(10,activation=\"softmax\"))\n",
        "    \n",
        "model.compile(loss=\"categorical_crossentropy\", optimizer=\"adam\", metrics=[\"accuracy\"])"
      ],
      "metadata": {
        "_uuid": "e935c979b0715a68bc8739e6a31f5d9a8189a750",
        "execution": {
          "iopub.status.busy": "2022-03-20T12:02:05.247394Z",
          "iopub.execute_input": "2022-03-20T12:02:05.247687Z",
          "iopub.status.idle": "2022-03-20T12:02:06.561983Z",
          "shell.execute_reply.started": "2022-03-20T12:02:05.24764Z",
          "shell.execute_reply": "2022-03-20T12:02:06.561103Z"
        },
        "trusted": true,
        "id": "1ayhWVpZyN1X"
      },
      "execution_count": null,
      "outputs": []
    },
    {
      "cell_type": "code",
      "source": [
        "model.summary()"
      ],
      "metadata": {
        "execution": {
          "iopub.status.busy": "2022-03-20T12:02:06.568155Z",
          "iopub.execute_input": "2022-03-20T12:02:06.571487Z",
          "iopub.status.idle": "2022-03-20T12:02:06.581815Z",
          "shell.execute_reply.started": "2022-03-20T12:02:06.571448Z",
          "shell.execute_reply": "2022-03-20T12:02:06.580951Z"
        },
        "trusted": true,
        "id": "ljAiIlj1yN1X"
      },
      "execution_count": null,
      "outputs": []
    },
    {
      "cell_type": "code",
      "source": [
        "# With data augmentation to prevent overfitting\n",
        "\n",
        "datagen = ImageDataGenerator(\n",
        "        featurewise_center=False,  # set input mean to 0 over the dataset\n",
        "        samplewise_center=False,  # set each sample mean to 0\n",
        "        featurewise_std_normalization=False,  # divide inputs by std of the dataset\n",
        "        samplewise_std_normalization=False,  # divide each input by its std\n",
        "        zca_whitening=False,  # apply ZCA whitening\n",
        "        rotation_range=15,  # randomly rotate images in the range (degrees, 0 to 180)\n",
        "        zoom_range = 0.01, # Randomly zoom image \n",
        "        width_shift_range=0.1,  # randomly shift images horizontally (fraction of total width)\n",
        "        height_shift_range=0.1,  # randomly shift images vertically (fraction of total height)\n",
        "        horizontal_flip=False,  # randomly flip images\n",
        "        vertical_flip=False)  # randomly flip images\n",
        "\n",
        "\n",
        "#datagen.fit(X_train)\n",
        "train_gen = datagen.flow(X_train, y_train, batch_size=128)\n",
        "test_gen = datagen.flow(X_test, y_test, batch_size=128)"
      ],
      "metadata": {
        "execution": {
          "iopub.status.busy": "2022-03-20T12:02:06.584285Z",
          "iopub.execute_input": "2022-03-20T12:02:06.584591Z",
          "iopub.status.idle": "2022-03-20T12:02:06.683645Z",
          "shell.execute_reply.started": "2022-03-20T12:02:06.584544Z",
          "shell.execute_reply": "2022-03-20T12:02:06.682925Z"
        },
        "trusted": true,
        "id": "1Pex-B48yN1Y"
      },
      "execution_count": null,
      "outputs": []
    },
    {
      "cell_type": "code",
      "source": [
        "epochs = 10\n",
        "batch_size = 128\n",
        "train_steps = X_train.shape[0] // batch_size\n",
        "valid_steps = X_test.shape[0] // batch_size\n",
        "\n",
        "es = keras.callbacks.EarlyStopping(\n",
        "        monitor=\"val_acc\", # metrics to monitor\n",
        "        patience=10, # how many epochs before stop\n",
        "        verbose=1,\n",
        "        mode=\"max\", # we need the maximum accuracy.\n",
        "        restore_best_weights=True, # \n",
        "     )\n",
        "\n",
        "rp = keras.callbacks.ReduceLROnPlateau(\n",
        "        monitor=\"val_acc\",\n",
        "        factor=0.2,\n",
        "        patience=3,\n",
        "        verbose=1,\n",
        "        mode=\"max\",\n",
        "        min_lr=0.00001,\n",
        "     )"
      ],
      "metadata": {
        "execution": {
          "iopub.status.busy": "2022-03-20T12:02:06.690411Z",
          "iopub.execute_input": "2022-03-20T12:02:06.690955Z",
          "iopub.status.idle": "2022-03-20T12:02:06.699404Z",
          "shell.execute_reply.started": "2022-03-20T12:02:06.690906Z",
          "shell.execute_reply": "2022-03-20T12:02:06.698544Z"
        },
        "trusted": true,
        "id": "zY_1XSB0yN1a"
      },
      "execution_count": null,
      "outputs": []
    },
    {
      "cell_type": "code",
      "source": [
        "# Fit the model\n",
        "history = model.fit(train_gen, \n",
        "                              epochs = epochs, \n",
        "                              steps_per_epoch = train_steps,\n",
        "                              validation_data = test_gen,\n",
        "                              validation_steps = valid_steps, \n",
        "                              callbacks=[es, rp])"
      ],
      "metadata": {
        "execution": {
          "iopub.status.busy": "2022-03-20T12:02:06.700897Z",
          "iopub.execute_input": "2022-03-20T12:02:06.701587Z",
          "iopub.status.idle": "2022-03-20T12:09:57.171678Z",
          "shell.execute_reply.started": "2022-03-20T12:02:06.701217Z",
          "shell.execute_reply": "2022-03-20T12:09:57.171006Z"
        },
        "trusted": true,
        "id": "HZ6ROsJ9yN1b"
      },
      "execution_count": null,
      "outputs": []
    },
    {
      "cell_type": "markdown",
      "source": [
        "**Plot CNN model**"
      ],
      "metadata": {
        "id": "eJlu7LfvyN1b"
      }
    },
    {
      "cell_type": "code",
      "source": [
        "from keras.utils.vis_utils import plot_model\n",
        "plot_model(model, to_file='/outputs/CNN_model_arch.png', show_shapes=True, show_layer_names=True)"
      ],
      "metadata": {
        "execution": {
          "iopub.status.busy": "2022-03-20T12:09:57.17428Z",
          "iopub.execute_input": "2022-03-20T12:09:57.174591Z",
          "iopub.status.idle": "2022-03-20T12:09:57.364493Z",
          "shell.execute_reply.started": "2022-03-20T12:09:57.174543Z",
          "shell.execute_reply": "2022-03-20T12:09:57.36346Z"
        },
        "trusted": true,
        "id": "hj1XNLSjyN1b"
      },
      "execution_count": null,
      "outputs": []
    },
    {
      "cell_type": "markdown",
      "source": [
        "# 4. Evaluate the model\n",
        "## 4.1 Training and validation curves"
      ],
      "metadata": {
        "id": "x_xWxyyWyN1b"
      }
    },
    {
      "cell_type": "code",
      "source": [
        "# Plot the loss and accuracy curves for training and validation \n",
        "fig, ax = plt.subplots(2, 1, figsize=(18, 10))\n",
        "\n",
        "ax[0].plot(history.history['loss'], color='b', label=\"Training loss\")\n",
        "ax[0].plot(history.history['val_loss'], color='r', label=\"Validation loss\", axes=ax[0])\n",
        "legend = ax[0].legend(loc='best', shadow=True)\n",
        "\n",
        "ax[1].plot(history.history['accuracy'], color='b', label=\"Training accuracy\")\n",
        "ax[1].plot(history.history['val_accuracy'], color='r', label=\"Validation accuracy\")\n",
        "legend = ax[1].legend(loc='best', shadow=True)"
      ],
      "metadata": {
        "execution": {
          "iopub.status.busy": "2022-03-20T12:09:57.368404Z",
          "iopub.execute_input": "2022-03-20T12:09:57.368673Z",
          "iopub.status.idle": "2022-03-20T12:09:57.925594Z",
          "shell.execute_reply.started": "2022-03-20T12:09:57.368624Z",
          "shell.execute_reply": "2022-03-20T12:09:57.924717Z"
        },
        "trusted": true,
        "id": "PDZTsi06yN1c"
      },
      "execution_count": null,
      "outputs": []
    },
    {
      "cell_type": "markdown",
      "source": [
        "## 4.2 Confusion matrix"
      ],
      "metadata": {
        "id": "l5SPOoOFyN1c"
      }
    },
    {
      "cell_type": "markdown",
      "source": [
        "Confusion matrix can be very helpfull to see your model drawbacks.\n",
        "\n",
        "I plot the confusion matrix of the validation results."
      ],
      "metadata": {
        "id": "u5bf_XukyN1c"
      }
    },
    {
      "cell_type": "code",
      "source": [
        "fig = plt.figure(figsize=(10, 10)) # Set Figure\n",
        "\n",
        "y_pred = model.predict(X_test) # Predict class probabilities as 2 => [0.1, 0, 0.9, 0, 0, 0, 0, 0, 0, 0]\n",
        "\n",
        "Y_pred = np.argmax(y_pred, 1) # Decode Predicted labels\n",
        "Y_test = np.argmax(y_test, 1) # Decode labels\n",
        "\n",
        "mat = confusion_matrix(Y_test, Y_pred) # Confusion matrix\n",
        "\n",
        "# Plot Confusion matrix\n",
        "sns.heatmap(mat.T, square=True, annot=True, cbar=False, cmap=plt.cm.Blues, fmt='.0f')\n",
        "plt.xlabel('Predicted Values')\n",
        "plt.ylabel('True Values');\n",
        "plt.show();"
      ],
      "metadata": {
        "execution": {
          "iopub.status.busy": "2022-03-20T12:09:57.930226Z",
          "iopub.execute_input": "2022-03-20T12:09:57.932605Z",
          "iopub.status.idle": "2022-03-20T12:09:59.000711Z",
          "shell.execute_reply.started": "2022-03-20T12:09:57.932544Z",
          "shell.execute_reply": "2022-03-20T12:09:58.99982Z"
        },
        "trusted": true,
        "id": "lpcw-mU_yN1c"
      },
      "execution_count": null,
      "outputs": []
    },
    {
      "cell_type": "code",
      "source": [
        "import os\n",
        "\n",
        "output_dir = '/outputs'\n",
        "\n",
        "# Save the model to the specific path\n",
        "model_path = os.path.join(output_dir, 'mnist.h5')\n",
        "model.save(model_path)\n",
        "\n",
        "print(f\"Model saved successfully at {model_path}.\")\n"
      ],
      "metadata": {
        "id": "yOFUNCwm8Zoh"
      },
      "execution_count": null,
      "outputs": []
    }
  ]
}